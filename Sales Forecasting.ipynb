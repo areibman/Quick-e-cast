{
 "cells": [
  {
   "cell_type": "markdown",
   "metadata": {},
   "source": [
    "## Import modules"
   ]
  },
  {
   "cell_type": "code",
   "execution_count": null,
   "metadata": {
    "collapsed": true
   },
   "outputs": [],
   "source": [
    "import os\n",
    "from __future__ import division\n",
    "import math\n",
    "import sklearn\n",
    "from sklearn.metrics import classification_report\n",
    "from sklearn import preprocessing\n",
    "import matplotlib\n",
    "import numpy as np\n",
    "import matplotlib.pyplot as plt\n",
    "import pandas as pd\n",
    "from IPython.display import display, HTML\n",
    "import seaborn as sns\n",
    "import datetime\n",
    "\n",
    "%matplotlib inline\n"
   ]
  },
  {
   "cell_type": "markdown",
   "metadata": {},
   "source": [
    "## Data description:\n"
   ]
  },
  {
   "cell_type": "code",
   "execution_count": null,
   "metadata": {
    "scrolled": true
   },
   "outputs": [],
   "source": [
    "df = pd.read_csv('SalesbyHour.csv')\n",
    "df.head()"
   ]
  },
  {
   "cell_type": "code",
   "execution_count": null,
   "metadata": {},
   "outputs": [],
   "source": [
    "df.sample(n=5)"
   ]
  },
  {
   "cell_type": "code",
   "execution_count": null,
   "metadata": {},
   "outputs": [],
   "source": [
    "df.describe()"
   ]
  },
  {
   "cell_type": "markdown",
   "metadata": {},
   "source": [
    "# Revise index"
   ]
  },
  {
   "cell_type": "code",
   "execution_count": null,
   "metadata": {
    "collapsed": true
   },
   "outputs": [],
   "source": [
    "df['Date']=pd.to_datetime(df['DateStringYYYYMMDD'].astype(str), format='%Y%m%d')\n",
    "# del df['DateStringYYYYMMDD']\n",
    "df = df.sort_values('Date',ascending=True)"
   ]
  },
  {
   "cell_type": "code",
   "execution_count": null,
   "metadata": {
    "collapsed": true
   },
   "outputs": [],
   "source": [
    "df['Timestamp'] = df['Date']+df.Hour.apply(lambda x: pd.Timedelta(hours=x))\n",
    "df = df.sort_values('Timestamp',ascending=True)"
   ]
  },
  {
   "cell_type": "code",
   "execution_count": null,
   "metadata": {},
   "outputs": [],
   "source": [
    "# df = df.sort_index(ascending=True)\n",
    "df.head()"
   ]
  },
  {
   "cell_type": "code",
   "execution_count": null,
   "metadata": {
    "collapsed": true
   },
   "outputs": [],
   "source": [
    "del df['DateStringYYYYMMDD']"
   ]
  },
  {
   "cell_type": "markdown",
   "metadata": {},
   "source": [
    "## Sales by store\n",
    "### Time series plots\n",
    "Note: only run if you want to see each graph"
   ]
  },
  {
   "cell_type": "code",
   "execution_count": null,
   "metadata": {
    "scrolled": true
   },
   "outputs": [],
   "source": [
    "for ID in range(len(df['Store_ID'].unique())):\n",
    "    plt.figure(figsize=(40,10))\n",
    "    plt.rc('font',size=30)\n",
    "    plt.title(\"Store {}\".format(list(df.set_index('Timestamp').groupby('Store_ID'))[ID][0]))\n",
    "    plt.xlabel('Time')\n",
    "    plt.ylabel('Sales Revenue')\n",
    "    plt.plot(list(df.set_index('Timestamp').groupby('Store_ID'))[ID][1]['SalesRevenue']) "
   ]
  },
  {
   "cell_type": "markdown",
   "metadata": {},
   "source": [
    "### Sales Revenue Distribution plots:\n",
    "Note: Only run if you want to see each graph"
   ]
  },
  {
   "cell_type": "code",
   "execution_count": null,
   "metadata": {
    "scrolled": true
   },
   "outputs": [],
   "source": [
    "for ID in range(len(df['Store_ID'].unique())):\n",
    "    plt.figure()\n",
    "    plt.rc('font',size=10)\n",
    "\n",
    "    tempdf = list(df.set_index('Timestamp').groupby('Store_ID'))[ID][1]['SalesRevenue']\n",
    "\n",
    "    plt.title(\"Store {}\".format(list(df.set_index('Timestamp').groupby('Store_ID'))[ID][0]))\n",
    "    sns.distplot(tempdf,\n",
    "                 label=\"std: \"+str(np.std(tempdf))+\"\\n Mean: \"+str(np.mean(tempdf)))\n",
    "    plt.legend()"
   ]
  },
  {
   "cell_type": "code",
   "execution_count": null,
   "metadata": {},
   "outputs": [],
   "source": [
    "df.groupby('Store_ID')['SalesRevenue'].describe()"
   ]
  },
  {
   "cell_type": "markdown",
   "metadata": {},
   "source": [
    "# One-hot encode\n",
    "* Fiscal_Qtr\n",
    "* Fiscal_dayofWk\n",
    "* Daypart\n",
    "* HourlyWeather\n",
    "* Store_ID"
   ]
  },
  {
   "cell_type": "code",
   "execution_count": null,
   "metadata": {
    "collapsed": true
   },
   "outputs": [],
   "source": [
    "#One-hot encoding\n",
    "\n",
    "dummies = []\n",
    "\n",
    "dummies.append(pd.get_dummies(df['Fiscal_dayofWk'],prefix=\"Day_\"))\n",
    "dummies.append(pd.get_dummies(df['Fiscal_Qtr'],prefix=\"Qtr_\"))\n",
    "dummies.append(pd.get_dummies(df['Store_ID'],prefix=\"Store_\"))"
   ]
  },
  {
   "cell_type": "code",
   "execution_count": null,
   "metadata": {
    "collapsed": true
   },
   "outputs": [],
   "source": [
    "dummies.append(pd.get_dummies(df['Daypart']))\n",
    "dummies.append(pd.get_dummies(df['HourlyWeather']))"
   ]
  },
  {
   "cell_type": "code",
   "execution_count": null,
   "metadata": {
    "collapsed": true,
    "scrolled": true
   },
   "outputs": [],
   "source": [
    "full_df = df.join(dummies)"
   ]
  },
  {
   "cell_type": "markdown",
   "metadata": {},
   "source": [
    "### Total weekly sales"
   ]
  },
  {
   "cell_type": "code",
   "execution_count": null,
   "metadata": {},
   "outputs": [],
   "source": [
    "plt.figure(dpi=80)\n",
    "full_df.set_index('Timestamp').resample('W').sum()['SalesRevenue'].plot()"
   ]
  },
  {
   "cell_type": "code",
   "execution_count": null,
   "metadata": {
    "scrolled": true
   },
   "outputs": [],
   "source": [
    "full_df.info()"
   ]
  },
  {
   "cell_type": "markdown",
   "metadata": {},
   "source": [
    "# Verify data consistency"
   ]
  },
  {
   "cell_type": "markdown",
   "metadata": {},
   "source": [
    "### Plot graphs to see whether they resemble what data should actually look like\n",
    "Note: only plot if you want to see every graph"
   ]
  },
  {
   "cell_type": "code",
   "execution_count": null,
   "metadata": {
    "scrolled": true
   },
   "outputs": [],
   "source": [
    "for a, b in full_df.groupby('Store_ID'):\n",
    "    plt.figure()\n",
    "    b.set_index('Timestamp')['SalesRevenue'][:100].plot()"
   ]
  },
  {
   "cell_type": "code",
   "execution_count": null,
   "metadata": {
    "scrolled": true
   },
   "outputs": [],
   "source": [
    "full_df.isnull().sum()"
   ]
  },
  {
   "cell_type": "markdown",
   "metadata": {
    "collapsed": true
   },
   "source": [
    "# Normalize Data"
   ]
  },
  {
   "cell_type": "markdown",
   "metadata": {},
   "source": [
    "### Remove outliers"
   ]
  },
  {
   "cell_type": "code",
   "execution_count": null,
   "metadata": {
    "collapsed": true
   },
   "outputs": [],
   "source": [
    "from scipy import stats"
   ]
  },
  {
   "cell_type": "code",
   "execution_count": null,
   "metadata": {},
   "outputs": [],
   "source": [
    "full_df['SalesRevenue'].describe()"
   ]
  },
  {
   "cell_type": "code",
   "execution_count": null,
   "metadata": {
    "scrolled": true
   },
   "outputs": [],
   "source": [
    "sales = full_df['SalesRevenue']\n",
    "sns.distplot(sales)"
   ]
  },
  {
   "cell_type": "markdown",
   "metadata": {},
   "source": [
    "OLS and other regression models perform poorly when there are extreme outliers. Certain stores, notably store 17 and 20 have some sales days that are so extreme, they are 10 standard deviations away from the mean. These absurdly high sales could have been from employees misreporting sales, or they might have actually happened. Either way, nothing about the information in the dataset is useful in actually predicting them"
   ]
  },
  {
   "cell_type": "code",
   "execution_count": null,
   "metadata": {},
   "outputs": [],
   "source": [
    "full_df[(full_df['SalesRevenue']>10*np.std(sales)+np.mean(sales))].groupby('Store_ID').describe()"
   ]
  },
  {
   "cell_type": "code",
   "execution_count": null,
   "metadata": {
    "collapsed": true
   },
   "outputs": [],
   "source": [
    "full_df = full_df[(full_df['SalesRevenue']<10*np.std(sales)+np.mean(sales))]"
   ]
  },
  {
   "cell_type": "markdown",
   "metadata": {},
   "source": [
    "Additionally, many reports show negative revenues. Either Sales Revenue is a misnomer, or employees are misreporting sales. If this were traditional retail, negative revenue could potentially make sense if customers were making large returns, but in fast food, this is unlikely. So, these points will be removed from the dataset."
   ]
  },
  {
   "cell_type": "code",
   "execution_count": null,
   "metadata": {
    "scrolled": true
   },
   "outputs": [],
   "source": [
    "full_df[(full_df['SalesRevenue']<0)].groupby('Store_ID').describe()"
   ]
  },
  {
   "cell_type": "markdown",
   "metadata": {},
   "source": [
    "Remove negative values"
   ]
  },
  {
   "cell_type": "code",
   "execution_count": null,
   "metadata": {
    "collapsed": true
   },
   "outputs": [],
   "source": [
    "full_df = full_df[(full_df['SalesRevenue']>=0)]"
   ]
  },
  {
   "cell_type": "code",
   "execution_count": null,
   "metadata": {},
   "outputs": [],
   "source": [
    "full_df.groupby('Store_ID')['SalesRevenue'].describe()"
   ]
  },
  {
   "cell_type": "markdown",
   "metadata": {},
   "source": [
    "# Rolling Average\n",
    "Rolling average helps us measure the \"momentum\" of sales in a store. Good way to account for seasonality."
   ]
  },
  {
   "cell_type": "code",
   "execution_count": null,
   "metadata": {},
   "outputs": [],
   "source": [
    "lag = pd.rolling_mean(full_df.set_index('Date')['SalesRevenue'].resample(\"1D\"),1)\n",
    "lag = pd.DataFrame(lag)\n",
    "lag=lag.reset_index()\n",
    "lag.columns=['Date','Rolling_mean']\n",
    "\n",
    "#Last value is used as the rolling average in the test set\n",
    "last_rm = lag['Rolling_mean'].tail(1).copy()\n",
    "\n",
    "#Each value is shifted to the proceeding date so that the classifier cannot see into the future\n",
    "lag['Rolling_mean'] = lag['Rolling_mean'].shift(1)\n",
    "lag.head()"
   ]
  },
  {
   "cell_type": "code",
   "execution_count": null,
   "metadata": {},
   "outputs": [],
   "source": [
    "plt.figure(dpi = 100)\n",
    "plt.plot(full_df.merge(lag,on='Date')['SalesRevenue'],label=\"Sales Revenue\")\n",
    "plt.plot(full_df.merge(lag,on='Date')['Rolling_mean'],label= 'Rolling Mean')\n",
    "plt.legend()\n",
    "\n",
    "# pd.DataFrame(full_df.index.join(lag.index))\n"
   ]
  },
  {
   "cell_type": "code",
   "execution_count": null,
   "metadata": {
    "collapsed": true
   },
   "outputs": [],
   "source": [
    "lagged_df = full_df.merge(lag,on='Date')"
   ]
  },
  {
   "cell_type": "markdown",
   "metadata": {},
   "source": [
    "### Rolling average per store"
   ]
  },
  {
   "cell_type": "code",
   "execution_count": null,
   "metadata": {
    "collapsed": true
   },
   "outputs": [],
   "source": [
    "#dictionary of daily average by store ID\n",
    "daily = {}\n",
    "for i in list(lagged_df.groupby('Store_ID')):\n",
    "    daily[i[0]]=i[1]"
   ]
  },
  {
   "cell_type": "code",
   "execution_count": null,
   "metadata": {},
   "outputs": [],
   "source": [
    "store_IDs = lagged_df['Store_ID'].unique()\n",
    "store_final_rms = {}\n",
    "\n",
    "#Test set values of rolling mean for final day\n",
    "for store in store_IDs:\n",
    "    rm = pd.rolling_mean(daily[store].set_index('Date')['SalesRevenue'].resample('1D'),1)\n",
    "    rm = pd.DataFrame(rm)\n",
    "    rm =  rm.reset_index()\n",
    "    rm.columns=['Date',\"Store RM \"+str(store)]\n",
    "    \n",
    "    #Save last day rolling means so that they can be used in test set\n",
    "    store_final_rms[store] = rm['Store RM '+str(store)].tail(1).copy(True)\n",
    "    \n",
    "    rm = lagged_df.merge(rm,on='Date',how='left')\n",
    "\n",
    "    lagged_df = rm.fillna(method=\"bfill\")\n",
    "    # plt.plot(full_df.merge(rm,on='Date')['SalesRevenue'])\n",
    "    # plt.plot(full_df.merge(rm,on='Date')['rm_1'])"
   ]
  },
  {
   "cell_type": "code",
   "execution_count": null,
   "metadata": {
    "collapsed": true
   },
   "outputs": [],
   "source": [
    "# Shift individual rolling means and fillna\n",
    "for store in store_IDs:\n",
    "    #Shift so that future values aren't read\n",
    "    lagged_df[\"Store RM \"+str(store)] = rm[\"Store RM \"+str(store)].shift(1)\n",
    "\n",
    "lagged_df = rm.fillna(method=\"bfill\")\n"
   ]
  },
  {
   "cell_type": "markdown",
   "metadata": {},
   "source": [
    "Turn timestamp to proper type"
   ]
  },
  {
   "cell_type": "code",
   "execution_count": null,
   "metadata": {
    "collapsed": true
   },
   "outputs": [],
   "source": [
    "lagged_df['Timestamp']=pd.to_numeric(lagged_df['Timestamp'])"
   ]
  },
  {
   "cell_type": "code",
   "execution_count": null,
   "metadata": {},
   "outputs": [],
   "source": [
    "# Check if columns align well\n",
    "lagged_df.head()"
   ]
  },
  {
   "cell_type": "markdown",
   "metadata": {},
   "source": [
    "### Display each store's average sales over time\n",
    "Note: only run if you want to see each graph"
   ]
  },
  {
   "cell_type": "code",
   "execution_count": null,
   "metadata": {},
   "outputs": [],
   "source": [
    "for store in lagged_df.iloc[:,50:].columns:\n",
    "    plt.figure()\n",
    "    plt.title(\"Store {}\".format(store))\n",
    "    plt.plot(lagged_df[store])\n",
    "    plt.legend()"
   ]
  },
  {
   "cell_type": "markdown",
   "metadata": {},
   "source": [
    "### Test set\n",
    "\"Using only the attached data set, identify the top predictors of hourly sales and predict total sales revenue for all 14 stores on 2017-07-15 during hour 12, assuming a clear day and average temperature of 86 degrees.\""
   ]
  },
  {
   "cell_type": "code",
   "execution_count": null,
   "metadata": {
    "collapsed": true
   },
   "outputs": [],
   "source": [
    "t = lagged_df.tail(1).copy()\n",
    "# pd.options.display.max_columns = None\n",
    "\n",
    "t['Fiscal_dayofWk']=6\n",
    "t['Hour']=12\n",
    "t['AvgHourlyTemp'] = 86\n",
    "t['Day__5']=0\n",
    "t['Day__6']=1\n",
    "t['Store__32']=0\n",
    "t['Late Night']=0\n",
    "t['Late Night']=0\n",
    "t['Lunch']=1\n",
    "t['clear-day']=1\n",
    "t['Rolling_mean'] = last_rm.iloc[0]\n",
    "t['Timestamp'] = pd.datetime(2017,7,15) + pd.Timedelta(int(t['Hour']),unit='h')\n",
    "t['Timestamp'] = pd.to_numeric(t['Timestamp'])\n",
    "\n",
    "t = t.drop(['Daypart','HourlyWeather','Store_ID','Date'],axis=1)"
   ]
  },
  {
   "cell_type": "code",
   "execution_count": null,
   "metadata": {
    "collapsed": true
   },
   "outputs": [],
   "source": [
    "for ID in store_IDs:\n",
    "    t['Store RM '+str(ID)] = store_final_rms[ID].iloc[0]"
   ]
  },
  {
   "cell_type": "code",
   "execution_count": null,
   "metadata": {
    "collapsed": true
   },
   "outputs": [],
   "source": [
    "# Store specific values\n",
    "test_set = {}\n",
    "for ID in store_IDs:\n",
    "    test_set[ID] = t.copy()\n",
    "    test_set[ID]['Store__'+str(ID)] = 1"
   ]
  },
  {
   "cell_type": "markdown",
   "metadata": {},
   "source": [
    "## Minmax scaling\n",
    "Why normalize?\n",
    "\"Since the range of values of raw data varies widely, in some machine learning algorithms, objective functions will not work properly without normalization. For example, the majority of classifiers calculate the distance between two points by the Euclidean distance. If one of the features has a broad range of values, the distance will be governed by this particular feature. Therefore, the range of all features should be normalized so that each feature contributes approximately proportionately to the final distance.\n",
    "\n",
    "Another reason why feature scaling is applied is that gradient descent converges much faster with feature scaling than without it\"\n",
    "https://en.wikipedia.org/wiki/Feature_scaling"
   ]
  },
  {
   "cell_type": "code",
   "execution_count": null,
   "metadata": {
    "collapsed": true
   },
   "outputs": [],
   "source": [
    "X = lagged_df.drop(['Daypart','HourlyWeather','Store_ID','Date'],axis=1)"
   ]
  },
  {
   "cell_type": "code",
   "execution_count": null,
   "metadata": {
    "collapsed": true,
    "scrolled": false
   },
   "outputs": [],
   "source": [
    "min_max_scaler = sklearn.preprocessing.MinMaxScaler()\n",
    "np_scaled = pd.DataFrame(min_max_scaler.fit_transform(X), columns=X.columns, index=X.index)"
   ]
  },
  {
   "cell_type": "code",
   "execution_count": null,
   "metadata": {
    "collapsed": true
   },
   "outputs": [],
   "source": []
  },
  {
   "cell_type": "code",
   "execution_count": null,
   "metadata": {},
   "outputs": [],
   "source": [
    "testdf = pd.DataFrame({'a': [1,2,3,4,5],'b':[1,231231,41,3,2]})\n",
    "mms = sklearn.preprocessing.MinMaxScaler()\n",
    "mms.fit_transform(testdf)"
   ]
  },
  {
   "cell_type": "code",
   "execution_count": null,
   "metadata": {},
   "outputs": [],
   "source": [
    "testdf"
   ]
  },
  {
   "cell_type": "code",
   "execution_count": null,
   "metadata": {},
   "outputs": [],
   "source": [
    "test2 = pd.DataFrame({'a': [5],'b':[1]})\n",
    "mms.transform(testdf)"
   ]
  },
  {
   "cell_type": "markdown",
   "metadata": {},
   "source": [
    "Scale test set"
   ]
  },
  {
   "cell_type": "code",
   "execution_count": null,
   "metadata": {
    "collapsed": true
   },
   "outputs": [],
   "source": [
    "# Scale each test set designed specifically for each store\n",
    "for store in store_IDs:\n",
    "    test_set[store] = pd.DataFrame(min_max_scaler.transform(test_set[store]) ,columns=test_set[store].columns)"
   ]
  },
  {
   "cell_type": "code",
   "execution_count": null,
   "metadata": {},
   "outputs": [],
   "source": [
    "test_set[20]"
   ]
  },
  {
   "cell_type": "code",
   "execution_count": null,
   "metadata": {},
   "outputs": [],
   "source": [
    "X = pd.DataFrame(np_scaled).drop('SalesRevenue',axis=1)\n",
    "y= pd.DataFrame(np_scaled)['SalesRevenue']\n",
    "X.head()"
   ]
  },
  {
   "cell_type": "markdown",
   "metadata": {},
   "source": [
    "# Model Selection"
   ]
  },
  {
   "cell_type": "markdown",
   "metadata": {},
   "source": [
    "For testing over the entire sampleset:"
   ]
  },
  {
   "cell_type": "code",
   "execution_count": null,
   "metadata": {
    "collapsed": true
   },
   "outputs": [],
   "source": [
    "from sklearn.model_selection import train_test_split"
   ]
  },
  {
   "cell_type": "markdown",
   "metadata": {},
   "source": [
    "Rolling window cross validation"
   ]
  },
  {
   "cell_type": "code",
   "execution_count": null,
   "metadata": {
    "collapsed": true
   },
   "outputs": [],
   "source": [
    "from sklearn.model_selection import TimeSeriesSplit\n",
    "tscv = TimeSeriesSplit(n_splits=10)\n",
    "tscv_list=[]\n",
    "\n",
    "for train_index, test_index in tscv.split(X):\n",
    "    tscv_list.append([train_index,test_index])\n",
    "    "
   ]
  },
  {
   "cell_type": "code",
   "execution_count": null,
   "metadata": {
    "collapsed": true
   },
   "outputs": [],
   "source": [
    "def RollingWindowCV(model, X=X, y=y, tscv_list=tscv_list, graphs=False):\n",
    "    \"\"\"\n",
    "    model: Trained model\n",
    "    X: features\n",
    "    y: target\n",
    "    tscv_list: time series cross validation list\n",
    "    \"\"\"\n",
    "    predictions = []\n",
    "    split_num=1\n",
    "\n",
    "    for test in tscv_list:\n",
    "        X_train = X.iloc[test[0],]\n",
    "        y_train = y.iloc[test[0],]\n",
    "        X_test = X.iloc[test[1],]\n",
    "        y_test = y.iloc[test[1],]\n",
    "\n",
    "        #fit\n",
    "        model.fit(X_train,y_train)\n",
    "\n",
    "        #score\n",
    "        score = model.score(X_test,y_test)\n",
    "        print(\"Split {} R squared: {}\".format(split_num,str(round(score,4))))\n",
    "        \n",
    "        #Graph\n",
    "        if graphs:\n",
    "            plt.figure(figsize=(9,4))\n",
    "            plt.rc('font', size=13)  \n",
    "            plt.title('100 Sample Forecast Split {} \\n R squared: {}'.format(split_num, str(round(score,4))))\n",
    "            plt.xlabel('Time')\n",
    "            plt.ylabel('SalesRevenue')\n",
    "            plt.plot(y_test.reset_index(drop=True)[:100],label=\"Ground Truth\")\n",
    "            plt.plot(model.predict(X_test.reset_index(drop=True)[:100]),label=\"Predicted Values\")\n",
    "            plt.legend()\n",
    "        \n",
    "        split_num+=1\n"
   ]
  },
  {
   "cell_type": "markdown",
   "metadata": {},
   "source": [
    "## OLS Regression"
   ]
  },
  {
   "cell_type": "code",
   "execution_count": null,
   "metadata": {
    "collapsed": true
   },
   "outputs": [],
   "source": [
    "from sklearn import linear_model\n",
    "reg = linear_model.LinearRegression()"
   ]
  },
  {
   "cell_type": "code",
   "execution_count": null,
   "metadata": {},
   "outputs": [],
   "source": [
    "reg.fit(X,y)"
   ]
  },
  {
   "cell_type": "code",
   "execution_count": null,
   "metadata": {
    "scrolled": false
   },
   "outputs": [],
   "source": [
    "plt.figure()\n",
    "plt.rc('font', size=20)  \n",
    "plt.title('100 Sample Fitness')\n",
    "plt.xlabel('Time')\n",
    "plt.ylabel('SalesRevenue')\n",
    "plt.plot(y[:100])\n",
    "plt.plot(reg.predict(X)[:100])\n"
   ]
  },
  {
   "cell_type": "code",
   "execution_count": null,
   "metadata": {},
   "outputs": [],
   "source": [
    "reg.score(X,y)"
   ]
  },
  {
   "cell_type": "markdown",
   "metadata": {},
   "source": [
    "### Test"
   ]
  },
  {
   "cell_type": "code",
   "execution_count": null,
   "metadata": {},
   "outputs": [],
   "source": [
    "RollingWindowCV(reg,graphs=False)"
   ]
  },
  {
   "cell_type": "markdown",
   "metadata": {
    "collapsed": true,
    "scrolled": true
   },
   "source": [
    "## Random Forest Regression"
   ]
  },
  {
   "cell_type": "code",
   "execution_count": null,
   "metadata": {
    "collapsed": true
   },
   "outputs": [],
   "source": [
    "from sklearn import ensemble\n",
    "RFR = ensemble.RandomForestRegressor()"
   ]
  },
  {
   "cell_type": "code",
   "execution_count": null,
   "metadata": {},
   "outputs": [],
   "source": [
    "RFR.fit(X,y)"
   ]
  },
  {
   "cell_type": "code",
   "execution_count": null,
   "metadata": {},
   "outputs": [],
   "source": [
    "plt.figure()\n",
    "plt.rc('font', size=20)  \n",
    "plt.title('100 Sample Fitness')\n",
    "plt.xlabel('Time')\n",
    "plt.ylabel('SalesRevenue')\n",
    "plt.plot(y[:100])\n",
    "plt.plot(RFR.predict(X)[:100])\n"
   ]
  },
  {
   "cell_type": "code",
   "execution_count": null,
   "metadata": {},
   "outputs": [],
   "source": [
    "RFR.score(X,y)"
   ]
  },
  {
   "cell_type": "markdown",
   "metadata": {},
   "source": [
    "### Test"
   ]
  },
  {
   "cell_type": "code",
   "execution_count": null,
   "metadata": {},
   "outputs": [],
   "source": [
    "RollingWindowCV(RFR,graphs=False)"
   ]
  },
  {
   "cell_type": "markdown",
   "metadata": {},
   "source": [
    "## Ridge Regression"
   ]
  },
  {
   "cell_type": "code",
   "execution_count": null,
   "metadata": {
    "collapsed": true
   },
   "outputs": [],
   "source": [
    "ridge = linear_model.Ridge(alpha=0.5)"
   ]
  },
  {
   "cell_type": "code",
   "execution_count": null,
   "metadata": {},
   "outputs": [],
   "source": [
    "ridge.fit(X,y)"
   ]
  },
  {
   "cell_type": "code",
   "execution_count": null,
   "metadata": {},
   "outputs": [],
   "source": [
    "plt.figure()\n",
    "plt.rc('font', size=20)  \n",
    "plt.title('100 Sample Fitness')\n",
    "plt.xlabel('Time')\n",
    "plt.ylabel('SalesRevenue')\n",
    "plt.plot(y[:100])\n",
    "plt.plot(ridge.predict(X)[:100])"
   ]
  },
  {
   "cell_type": "code",
   "execution_count": null,
   "metadata": {},
   "outputs": [],
   "source": [
    "ridge.score(X,y)"
   ]
  },
  {
   "cell_type": "markdown",
   "metadata": {},
   "source": [
    "### Test"
   ]
  },
  {
   "cell_type": "code",
   "execution_count": null,
   "metadata": {},
   "outputs": [],
   "source": [
    "RollingWindowCV(ridge,graphs=False)"
   ]
  },
  {
   "cell_type": "markdown",
   "metadata": {},
   "source": [
    "## Lasso Regression"
   ]
  },
  {
   "cell_type": "code",
   "execution_count": null,
   "metadata": {},
   "outputs": [],
   "source": [
    "lasso = linear_model.LassoCV()\n",
    "lasso.fit(X,y)"
   ]
  },
  {
   "cell_type": "code",
   "execution_count": null,
   "metadata": {},
   "outputs": [],
   "source": [
    "lasso.score(X,y)"
   ]
  },
  {
   "cell_type": "code",
   "execution_count": null,
   "metadata": {},
   "outputs": [],
   "source": [
    "plt.figure()\n",
    "plt.rc('font', size=20)  \n",
    "plt.title('100 Sample Fitness')\n",
    "plt.xlabel('Time')\n",
    "plt.ylabel('SalesRevenue')\n",
    "plt.plot(y[:100])\n",
    "plt.plot(lasso.predict(X[:100]))"
   ]
  },
  {
   "cell_type": "markdown",
   "metadata": {},
   "source": [
    "### Test"
   ]
  },
  {
   "cell_type": "code",
   "execution_count": null,
   "metadata": {},
   "outputs": [],
   "source": [
    "RollingWindowCV(lasso, graphs=False)"
   ]
  },
  {
   "cell_type": "markdown",
   "metadata": {},
   "source": [
    "# Gradient Boosting Regressor"
   ]
  },
  {
   "cell_type": "code",
   "execution_count": null,
   "metadata": {
    "collapsed": true
   },
   "outputs": [],
   "source": [
    "from sklearn.ensemble import GradientBoostingRegressor"
   ]
  },
  {
   "cell_type": "code",
   "execution_count": null,
   "metadata": {},
   "outputs": [],
   "source": [
    "GBR = GradientBoostingRegressor()\n",
    "GBR.fit(X,y)"
   ]
  },
  {
   "cell_type": "code",
   "execution_count": null,
   "metadata": {},
   "outputs": [],
   "source": [
    "GBR.score(X,y)"
   ]
  },
  {
   "cell_type": "code",
   "execution_count": null,
   "metadata": {},
   "outputs": [],
   "source": [
    "plt.figure()\n",
    "plt.rc('font', size=20)  \n",
    "plt.title('100 Sample Fitness')\n",
    "plt.xlabel('Time')\n",
    "plt.ylabel('SalesRevenue')\n",
    "plt.plot(y[:100])\n",
    "plt.plot(GBR.predict(X)[:100])"
   ]
  },
  {
   "cell_type": "code",
   "execution_count": null,
   "metadata": {},
   "outputs": [],
   "source": [
    "RollingWindowCV(GBR,graphs=False)"
   ]
  },
  {
   "cell_type": "markdown",
   "metadata": {},
   "source": [
    "# Model Validation"
   ]
  },
  {
   "cell_type": "markdown",
   "metadata": {},
   "source": [
    "## Tree Based Models"
   ]
  },
  {
   "cell_type": "markdown",
   "metadata": {},
   "source": [
    "List top features in tree based regressors"
   ]
  },
  {
   "cell_type": "code",
   "execution_count": null,
   "metadata": {
    "collapsed": true
   },
   "outputs": [],
   "source": [
    "def TreeFeatureEvaluation(model, X=X):\n",
    "    features = zip(X.columns, model.feature_importances_)\n",
    "    features = sorted(features, key = lambda x:x[1], reverse=True)\n",
    "    for feat in features:\n",
    "        print(feat)\n",
    "    return features"
   ]
  },
  {
   "cell_type": "markdown",
   "metadata": {},
   "source": [
    "Create diagram visualizing coefficients"
   ]
  },
  {
   "cell_type": "code",
   "execution_count": null,
   "metadata": {
    "collapsed": true
   },
   "outputs": [],
   "source": [
    "# Function used to plot the feature importances as a pie chart\n",
    "def TreeFeatureChart(x, top_N_features=7):\n",
    "    labels = [x[n][0] for n in range(len(x))][:top_N_features]\n",
    "    labels.append('Other')\n",
    "    values =[x[n][1] for n in range(len(x))][:top_N_features]\n",
    "    values.append(1-sum(values))\n",
    "    plt.rc('font',size=15)\n",
    "\n",
    "    fig1, ax1 = plt.subplots()\n",
    "    ax1.pie(values, labels=labels, autopct=None,\n",
    "            shadow=True, startangle=90)\n",
    "    ax1.axis('equal')  # Equal aspect ratio ensures that pie is drawn as a circle.\n",
    "    plt.legend(labels, loc='best', bbox_to_anchor=(-0.1, 1.),\n",
    "               fontsize=8)\n",
    "    plt.title(\"Features by importance\")\n",
    "    plt.show()"
   ]
  },
  {
   "cell_type": "markdown",
   "metadata": {},
   "source": [
    "### Random Forest"
   ]
  },
  {
   "cell_type": "code",
   "execution_count": null,
   "metadata": {
    "scrolled": true
   },
   "outputs": [],
   "source": [
    "RFR_feats = TreeFeatureEvaluation(RFR)"
   ]
  },
  {
   "cell_type": "code",
   "execution_count": null,
   "metadata": {},
   "outputs": [],
   "source": [
    "TreeFeatureChart(RFR_feats)"
   ]
  },
  {
   "cell_type": "markdown",
   "metadata": {},
   "source": [
    "### Gradient Boosting Regressor"
   ]
  },
  {
   "cell_type": "code",
   "execution_count": null,
   "metadata": {
    "scrolled": true
   },
   "outputs": [],
   "source": [
    "GBR_feats = TreeFeatureEvaluation(GBR)"
   ]
  },
  {
   "cell_type": "code",
   "execution_count": null,
   "metadata": {},
   "outputs": [],
   "source": [
    "TreeFeatureChart(GBR_feats)"
   ]
  },
  {
   "cell_type": "markdown",
   "metadata": {},
   "source": [
    "## Regression based models"
   ]
  },
  {
   "cell_type": "markdown",
   "metadata": {},
   "source": [
    "Coefficient list"
   ]
  },
  {
   "cell_type": "code",
   "execution_count": null,
   "metadata": {
    "collapsed": true
   },
   "outputs": [],
   "source": [
    "def RegFeatureEvaluation(coef, labels):\n",
    "    \"\"\"\n",
    "    coef: Coeficients\n",
    "    labels: Label names\n",
    "    \"\"\"\n",
    "    features = zip(labels, coef)\n",
    "    features = sorted(features, key = lambda x:x[1], reverse=True)\n",
    "    for feat in features:\n",
    "        print(feat)"
   ]
  },
  {
   "cell_type": "markdown",
   "metadata": {},
   "source": [
    "Coefficient visualization"
   ]
  },
  {
   "cell_type": "code",
   "execution_count": null,
   "metadata": {
    "collapsed": true
   },
   "outputs": [],
   "source": [
    "def RegFeatureChart(coef, names):\n",
    "    imp = coef\n",
    "    imp,names = zip(*sorted(zip(imp,names)))\n",
    "\n",
    "    split_index = 0\n",
    "    for i in range(len(imp)):\n",
    "        if imp[i] >=0:\n",
    "            split=i\n",
    "            break\n",
    "    split_index+=1\n",
    "    \n",
    "    \n",
    "    # Positive features\n",
    "    plt.figure(dpi=100)\n",
    "    plt.rc('font',size=10)\n",
    "    plt.barh(range(len(names[:i])), imp[:i], align='center')\n",
    "    plt.yticks(range(len(names[:i])), names[:i])\n",
    "    plt.show()\n",
    "    \n",
    "    # Negative Features\n",
    "    plt.figure(dpi=90)\n",
    "    plt.barh(range(len(names[i-1:])), imp[i-1:], align='center')\n",
    "    plt.yticks(range(len(names[i-1:])), names[i-1:])\n",
    "    plt.show()"
   ]
  },
  {
   "cell_type": "markdown",
   "metadata": {},
   "source": [
    "### OLS"
   ]
  },
  {
   "cell_type": "code",
   "execution_count": null,
   "metadata": {
    "scrolled": true
   },
   "outputs": [],
   "source": [
    "RegFeatureEvaluation(reg.coef_,X.columns)"
   ]
  },
  {
   "cell_type": "code",
   "execution_count": null,
   "metadata": {
    "scrolled": true
   },
   "outputs": [],
   "source": [
    "RegFeatureChart(reg.coef_,X.columns)"
   ]
  },
  {
   "cell_type": "markdown",
   "metadata": {},
   "source": [
    "### Ridge"
   ]
  },
  {
   "cell_type": "code",
   "execution_count": null,
   "metadata": {
    "scrolled": true
   },
   "outputs": [],
   "source": [
    "RegFeatureEvaluation(ridge.coef_,X.columns)"
   ]
  },
  {
   "cell_type": "code",
   "execution_count": null,
   "metadata": {
    "scrolled": true
   },
   "outputs": [],
   "source": [
    "RegFeatureChart(ridge.coef_,X.columns)"
   ]
  },
  {
   "cell_type": "markdown",
   "metadata": {},
   "source": [
    "### Lasso"
   ]
  },
  {
   "cell_type": "code",
   "execution_count": null,
   "metadata": {
    "scrolled": true
   },
   "outputs": [],
   "source": [
    "RegFeatureEvaluation(lasso.coef_,X.columns)"
   ]
  },
  {
   "cell_type": "code",
   "execution_count": null,
   "metadata": {},
   "outputs": [],
   "source": [
    "RegFeatureChart(lasso.coef_,X.columns)"
   ]
  },
  {
   "cell_type": "markdown",
   "metadata": {},
   "source": [
    "# Forecast"
   ]
  },
  {
   "cell_type": "code",
   "execution_count": null,
   "metadata": {
    "collapsed": true
   },
   "outputs": [],
   "source": [
    "def InvertPrediction(item, model, scaler):\n",
    "    \"\"\"\n",
    "    Given a normalized line item, the model, and the scaler, returns the original value\n",
    "    \"\"\"\n",
    "    temp = item.copy()\n",
    "    prediction = model.predict(item.drop('SalesRevenue',axis=1))\n",
    "    temp['SalesRevenue'] = prediction\n",
    "    \n",
    "    return pd.DataFrame(scaler.inverse_transform(temp),columns=temp.columns)['SalesRevenue'].tail(1)\n",
    "    \n"
   ]
  },
  {
   "cell_type": "code",
   "execution_count": null,
   "metadata": {
    "scrolled": true
   },
   "outputs": [],
   "source": [
    "for ID in test_set:\n",
    "    item = test_set[ID].copy()\n",
    "    print(\"Store number\", ID)\n",
    "    \n",
    "    print(\"OLS: {}\".format(InvertPrediction(item,ridge,min_max_scaler)))\n",
    "    print(\"Ridge: {}\".format(InvertPrediction(item,ridge,min_max_scaler)))\n",
    "    print(\"Lasso: {}\".format(InvertPrediction(item,lasso,min_max_scaler)))\n",
    "    print(\"Random Forest: {}\".format(InvertPrediction(item,RFR,min_max_scaler)))\n",
    "    print(\"GB Regresion: {}\".format(InvertPrediction(item,GBR,min_max_scaler)))\n",
    "    print(20*\"-\")\n",
    "    \n"
   ]
  },
  {
   "cell_type": "markdown",
   "metadata": {},
   "source": [
    "# Creating a model for each store individually\n",
    "Unfortunately, the forecasts are still very unreliable. So, each store will be assessed individually."
   ]
  },
  {
   "cell_type": "markdown",
   "metadata": {},
   "source": [
    "### Min max scale each store's data"
   ]
  },
  {
   "cell_type": "code",
   "execution_count": null,
   "metadata": {
    "collapsed": true
   },
   "outputs": [],
   "source": [
    "individuals = dict()\n",
    "stores = list(lagged_df.groupby('Store_ID'))\n",
    "\n",
    "for ID in range(len(store_IDs)):\n",
    "    store = stores[ID][1].drop(['Daypart','HourlyWeather','Store_ID','Date'],axis=1).copy()\n",
    "    store['Timestamp'] = pd.to_numeric(store['Timestamp'])\n",
    "    individuals[stores[ID][0]]= pd.DataFrame(data = min_max_scaler.transform(store),columns=store.columns)\n",
    "    individuals[stores[ID][0]]= individuals[stores[ID][0]].append(test_set[stores[ID][0]])"
   ]
  },
  {
   "cell_type": "code",
   "execution_count": null,
   "metadata": {
    "scrolled": true
   },
   "outputs": [],
   "source": [
    "individuals[2]"
   ]
  },
  {
   "cell_type": "markdown",
   "metadata": {},
   "source": [
    "## Classification reports for each model"
   ]
  },
  {
   "cell_type": "code",
   "execution_count": null,
   "metadata": {
    "collapsed": true
   },
   "outputs": [],
   "source": [
    "def ModelReport(Store_ID, model, graphs=False):\n",
    "    '''\n",
    "    Given a unique store ID and model, creates an R^2 report\n",
    "    Store_ID: Store's unique ID\n",
    "    Model: name of model to train \n",
    "    '''\n",
    "    \n",
    "    X = individuals[Store_ID].drop('SalesRevenue',axis=1)\n",
    "    X = X.reset_index(drop=True)\n",
    "    y = individuals[Store_ID]['SalesRevenue']\n",
    "    y = y.reset_index(drop=True)\n",
    "    \n",
    "    tscv = TimeSeriesSplit(n_splits=10)\n",
    "    tscv_list=[]\n",
    "\n",
    "    for train_index, test_index in tscv.split(X):\n",
    "        tscv_list.append([train_index,test_index])\n",
    "    display('Results for Store {}'.format(Store_ID))\n",
    "    RollingWindowCV(model=model,X=X,y=y,tscv_list=tscv_list,graphs=graphs)\n",
    "    \n"
   ]
  },
  {
   "cell_type": "markdown",
   "metadata": {},
   "source": [
    "### OLS"
   ]
  },
  {
   "cell_type": "code",
   "execution_count": null,
   "metadata": {},
   "outputs": [],
   "source": [
    "LRG = linear_model.LinearRegression()\n",
    "for ID in store_IDs:\n",
    "    ModelReport(Store_ID=ID, model=LRG, graphs=False)"
   ]
  },
  {
   "cell_type": "code",
   "execution_count": null,
   "metadata": {
    "scrolled": true
   },
   "outputs": [],
   "source": [
    "pd.options.display.max_columns = None\n",
    "\n",
    "\n",
    "for ID in store_IDs:\n",
    "    LRG.fit(individuals[ID].drop('SalesRevenue',axis=1),individuals[ID]['SalesRevenue'])\n",
    "    plt.figure(dpi=100)\n",
    "    plt.title(\"Store ID {}\".format(ID))\n",
    "#     plt.plot(individuals[ID].reset_index()['SalesRevenue'].tail(200))\n",
    "    plt.plot(LRG.predict(individuals[ID].drop('SalesRevenue',axis=1)))"
   ]
  },
  {
   "cell_type": "markdown",
   "metadata": {},
   "source": [
    "# Test set"
   ]
  },
  {
   "cell_type": "code",
   "execution_count": null,
   "metadata": {
    "scrolled": true
   },
   "outputs": [],
   "source": [
    "for ID in store_IDs:\n",
    "    LRG = linear_model.LinearRegression()\n",
    "    LRG.fit(X = individuals[ID].drop('SalesRevenue',axis=1),\n",
    "            y = individuals[ID]['SalesRevenue'])\n",
    "    prediction = LRG.predict(test_set[ID].drop('SalesRevenue',axis=1))[-1:]\n",
    "#     display(prediction)\n",
    "    test_set[ID]['SalesRevenue']=prediction\n",
    "    display(\"Store {} Predicted Sales: \".format(ID))\n",
    "    display(pd.DataFrame(min_max_scaler.inverse_transform(test_set[ID]),\n",
    "                         columns=test_set[ID].columns)['SalesRevenue'])"
   ]
  },
  {
   "cell_type": "code",
   "execution_count": null,
   "metadata": {
    "collapsed": true
   },
   "outputs": [],
   "source": []
  },
  {
   "cell_type": "code",
   "execution_count": null,
   "metadata": {},
   "outputs": [],
   "source": [
    "InvertPrediction(individuals[ID].tail(1),LRG,min_max_scaler)"
   ]
  },
  {
   "cell_type": "markdown",
   "metadata": {},
   "source": [
    "## Predictions"
   ]
  },
  {
   "cell_type": "code",
   "execution_count": null,
   "metadata": {
    "scrolled": true
   },
   "outputs": [],
   "source": [
    "for ID in store_IDs:\n",
    "    item = test_set[ID]\n",
    "    print(\"Store number\", ID)  \n",
    "    LRG.fit(individuals[ID].drop('SalesRevenue',axis=1),individuals[ID]['SalesRevenue'])\n",
    "#     print(\"OLS: {}\".format(InvertPrediction(item,LRG,min_max_scaler)))\n",
    "#     print(InvertPrediction(item,LRG,min_max_scaler))\n",
    "    display(pd.DataFrame(min_max_scaler.inverse_transform(item),columns=item.columns))\n",
    "    print(20*\"-\")\n",
    "    display(item)"
   ]
  },
  {
   "cell_type": "markdown",
   "metadata": {},
   "source": [
    "## Lasso"
   ]
  },
  {
   "cell_type": "code",
   "execution_count": null,
   "metadata": {},
   "outputs": [],
   "source": [
    "lasso = linear_model.LassoCV()\n",
    "\n",
    "for ID in store_IDs:\n",
    "    ModelReport(Store_ID=ID, model=lasso, graphs=False)"
   ]
  },
  {
   "cell_type": "markdown",
   "metadata": {},
   "source": [
    "Note: only run if you want to see each graph"
   ]
  },
  {
   "cell_type": "code",
   "execution_count": null,
   "metadata": {},
   "outputs": [],
   "source": [
    "for ID in store_IDs:\n",
    "    lasso.fit(individuals[ID].drop('SalesRevenue',axis=1),individuals[ID]['SalesRevenue'])\n",
    "    plt.figure()\n",
    "    plt.title(\"Store ID {}\".format(ID))\n",
    "    plt.plot(individuals[ID].reset_index()['SalesRevenue'][:200])\n",
    "    plt.plot(lasso.predict(individuals[ID].drop('SalesRevenue',axis=1)[:200]))"
   ]
  },
  {
   "cell_type": "markdown",
   "metadata": {},
   "source": [
    "## Predictions"
   ]
  },
  {
   "cell_type": "code",
   "execution_count": null,
   "metadata": {
    "scrolled": true
   },
   "outputs": [],
   "source": [
    "for ID in store_IDs:\n",
    "    lasso = linear_model.LassoCV()\n",
    "    lasso.fit(X = individuals[ID].drop('SalesRevenue',axis=1),\n",
    "            y = individuals[ID]['SalesRevenue'])\n",
    "    prediction = lasso.predict(test_set[ID].drop('SalesRevenue',axis=1))[-1:]\n",
    "#     display(prediction)\n",
    "    test_set[ID]['SalesRevenue']=prediction\n",
    "    display(\"Store {} Predicted Sales: \".format(ID))\n",
    "    display(pd.DataFrame(min_max_scaler.inverse_transform(test_set[ID]),\n",
    "                         columns=test_set[ID].columns)['SalesRevenue'])"
   ]
  },
  {
   "cell_type": "markdown",
   "metadata": {},
   "source": [
    "## Ridge "
   ]
  },
  {
   "cell_type": "code",
   "execution_count": null,
   "metadata": {
    "scrolled": true
   },
   "outputs": [],
   "source": [
    "ridge = linear_model.Ridge()\n",
    "for ID in store_IDs:\n",
    "    ModelReport(Store_ID=ID, model=ridge,graphs=False)"
   ]
  },
  {
   "cell_type": "markdown",
   "metadata": {},
   "source": [
    "Note: only run if you want to see each graph"
   ]
  },
  {
   "cell_type": "code",
   "execution_count": null,
   "metadata": {},
   "outputs": [],
   "source": [
    "for ID in store_IDs:\n",
    "    ridge.fit(individuals[ID].drop('SalesRevenue',axis=1),individuals[ID]['SalesRevenue'])\n",
    "    plt.figure()\n",
    "    plt.title(\"Store ID {}\".format(ID))\n",
    "    plt.plot(individuals[ID].reset_index()['SalesRevenue'][:200])\n",
    "    plt.plot(ridge.predict(individuals[ID].drop('SalesRevenue',axis=1)[:200]))"
   ]
  },
  {
   "cell_type": "markdown",
   "metadata": {},
   "source": [
    "## Predictions"
   ]
  },
  {
   "cell_type": "code",
   "execution_count": null,
   "metadata": {
    "scrolled": true
   },
   "outputs": [],
   "source": [
    "for ID in store_IDs:\n",
    "    ridge = linear_model.Ridge()\n",
    "    ridge.fit(X = individuals[ID].drop('SalesRevenue',axis=1),\n",
    "            y = individuals[ID]['SalesRevenue'])\n",
    "    prediction = ridge.predict(test_set[ID].drop('SalesRevenue',axis=1))[-1:]\n",
    "#     display(prediction)\n",
    "    test_set[ID]['SalesRevenue']=prediction\n",
    "    display(\"Store {} Predicted Sales: \".format(ID))\n",
    "    display(pd.DataFrame(min_max_scaler.inverse_transform(test_set[ID]),\n",
    "                         columns=test_set[ID].columns)['SalesRevenue'])"
   ]
  },
  {
   "cell_type": "markdown",
   "metadata": {},
   "source": [
    "### Random forest"
   ]
  },
  {
   "cell_type": "code",
   "execution_count": null,
   "metadata": {
    "scrolled": true
   },
   "outputs": [],
   "source": [
    "RFR = ensemble.RandomForestRegressor()\n",
    "\n",
    "for ID in store_IDs:\n",
    "    ModelReport(Store_ID=ID, model=RFR, graphs=False)"
   ]
  },
  {
   "cell_type": "markdown",
   "metadata": {},
   "source": [
    "Note: only run if you want to see each graph"
   ]
  },
  {
   "cell_type": "code",
   "execution_count": null,
   "metadata": {},
   "outputs": [],
   "source": [
    "for ID in store_IDs:\n",
    "    RFR.fit(individuals[ID].drop('SalesRevenue',axis=1),individuals[ID]['SalesRevenue'])\n",
    "    plt.figure(figsize=(25,5))\n",
    "    plt.title(\"Store ID {}\".format(ID))\n",
    "    plt.plot(individuals[ID].reset_index()['SalesRevenue'][:200])\n",
    "    plt.plot(RFR.predict(individuals[ID].drop('SalesRevenue',axis=1)[:200]))"
   ]
  },
  {
   "cell_type": "markdown",
   "metadata": {},
   "source": [
    "## Predictions"
   ]
  },
  {
   "cell_type": "code",
   "execution_count": 154,
   "metadata": {
    "scrolled": true
   },
   "outputs": [],
   "source": [
    "for ID in store_IDs:\n",
    "    RFR = ensemble.RandomForestRegressor()\n",
    "    RFR.fit(X = individuals[ID].drop('SalesRevenue',axis=1),\n",
    "            y = individuals[ID]['SalesRevenue'])\n",
    "    prediction = RFR.predict(test_set[ID].drop('SalesRevenue',axis=1))[-1:]\n",
    "#     display(prediction)\n",
    "    test_set[ID]['SalesRevenue']=prediction\n",
    "    display(\"Store {} Predicted Sales: \".format(ID))\n",
    "    display(pd.DataFrame(min_max_scaler.inverse_transform(test_set[ID]),\n",
    "                         columns=test_set[ID].columns)['SalesRevenue'])"
   ]
  },
  {
   "cell_type": "markdown",
   "metadata": {},
   "source": [
    "### Gradient Boosting Regressor"
   ]
  },
  {
   "cell_type": "code",
   "execution_count": 155,
   "metadata": {
    "scrolled": true
   },
   "outputs": [
    {
     "name": "stdout",
     "output_type": "stream",
     "text": [
      "Split 7 R squared: 0.6878\n",
      "Split 8 R squared: 0.5483\n",
      "Split 9 R squared: 0.6937\n",
      "Split 10 R squared: 0.7025\n"
     ]
    },
    {
     "data": {
      "text/plain": [
       "'Results for Store 11'"
      ]
     },
     "metadata": {},
     "output_type": "display_data"
    },
    {
     "name": "stdout",
     "output_type": "stream",
     "text": [
      "Split 1 R squared: 0.0243\n",
      "Split 2 R squared: 0.4682\n",
      "Split 3 R squared: 0.3048\n",
      "Split 4 R squared: 0.4409\n",
      "Split 5 R squared: 0.4199\n",
      "Split 6 R squared: 0.5712\n",
      "Split 7 R squared: 0.5899\n",
      "Split 8 R squared: 0.5246\n",
      "Split 9 R squared: 0.5837\n",
      "Split 10 R squared: 0.5861\n"
     ]
    },
    {
     "data": {
      "text/plain": [
       "'Results for Store 2'"
      ]
     },
     "metadata": {},
     "output_type": "display_data"
    },
    {
     "name": "stdout",
     "output_type": "stream",
     "text": [
      "Split 1 R squared: 0.5233\n",
      "Split 2 R squared: 0.5511\n",
      "Split 3 R squared: 0.6073\n",
      "Split 4 R squared: 0.6407\n",
      "Split 5 R squared: 0.5521\n",
      "Split 6 R squared: 0.6758\n",
      "Split 7 R squared: 0.6224\n",
      "Split 8 R squared: 0.6467\n",
      "Split 9 R squared: 0.715\n",
      "Split 10 R squared: 0.7076\n"
     ]
    },
    {
     "data": {
      "text/plain": [
       "'Results for Store 18'"
      ]
     },
     "metadata": {},
     "output_type": "display_data"
    },
    {
     "name": "stdout",
     "output_type": "stream",
     "text": [
      "Split 1 R squared: -0.644\n",
      "Split 2 R squared: -0.0538\n",
      "Split 3 R squared: -1.2573\n",
      "Split 4 R squared: 0.4351\n",
      "Split 5 R squared: 0.3373\n",
      "Split 6 R squared: 0.2492\n",
      "Split 7 R squared: 0.5096\n",
      "Split 8 R squared: 0.5184\n",
      "Split 9 R squared: 0.5702\n",
      "Split 10 R squared: 0.5375\n"
     ]
    },
    {
     "data": {
      "text/plain": [
       "'Results for Store 20'"
      ]
     },
     "metadata": {},
     "output_type": "display_data"
    },
    {
     "name": "stdout",
     "output_type": "stream",
     "text": [
      "Split 1 R squared: 0.2204\n",
      "Split 2 R squared: 0.3867\n",
      "Split 3 R squared: 0.3929\n",
      "Split 4 R squared: 0.1581\n",
      "Split 5 R squared: 0.4966\n",
      "Split 6 R squared: 0.502\n",
      "Split 7 R squared: 0.5004\n",
      "Split 8 R squared: 0.4735\n",
      "Split 9 R squared: -1.7401\n",
      "Split 10 R squared: 0.4984\n"
     ]
    },
    {
     "data": {
      "text/plain": [
       "'Results for Store 21'"
      ]
     },
     "metadata": {},
     "output_type": "display_data"
    },
    {
     "name": "stdout",
     "output_type": "stream",
     "text": [
      "Split 1 R squared: 0.5907\n",
      "Split 2 R squared: 0.6307\n",
      "Split 3 R squared: 0.6921\n",
      "Split 4 R squared: 0.6183\n",
      "Split 5 R squared: 0.6499\n",
      "Split 6 R squared: 0.6062\n",
      "Split 7 R squared: 0.6011\n",
      "Split 8 R squared: 0.5909\n",
      "Split 9 R squared: 0.5993\n",
      "Split 10 R squared: 0.6193\n"
     ]
    },
    {
     "data": {
      "text/plain": [
       "'Results for Store 22'"
      ]
     },
     "metadata": {},
     "output_type": "display_data"
    },
    {
     "name": "stdout",
     "output_type": "stream",
     "text": [
      "Split 1 R squared: 0.1087\n",
      "Split 2 R squared: 0.0017\n",
      "Split 3 R squared: 0.3455\n",
      "Split 4 R squared: 0.2457\n",
      "Split 5 R squared: 0.3062\n",
      "Split 6 R squared: 0.4068\n",
      "Split 7 R squared: 0.3836\n",
      "Split 8 R squared: 0.3713\n",
      "Split 9 R squared: 0.4621\n",
      "Split 10 R squared: 0.2739\n"
     ]
    },
    {
     "data": {
      "text/plain": [
       "'Results for Store 31'"
      ]
     },
     "metadata": {},
     "output_type": "display_data"
    },
    {
     "name": "stdout",
     "output_type": "stream",
     "text": [
      "Split 1 R squared: 0.4645\n",
      "Split 2 R squared: 0.0509\n",
      "Split 3 R squared: 0.5882\n",
      "Split 4 R squared: 0.6112\n",
      "Split 5 R squared: 0.6083\n",
      "Split 6 R squared: 0.6503\n",
      "Split 7 R squared: 0.5157\n",
      "Split 8 R squared: 0.7396\n",
      "Split 9 R squared: 0.6823\n",
      "Split 10 R squared: 0.708\n"
     ]
    },
    {
     "data": {
      "text/plain": [
       "'Results for Store 34'"
      ]
     },
     "metadata": {},
     "output_type": "display_data"
    },
    {
     "name": "stdout",
     "output_type": "stream",
     "text": [
      "Split 1 R squared: 0.4606\n",
      "Split 2 R squared: -2.6328\n",
      "Split 3 R squared: 0.4914\n",
      "Split 4 R squared: 0.4093\n",
      "Split 5 R squared: 0.3046\n",
      "Split 6 R squared: 0.0672\n",
      "Split 7 R squared: 0.303\n",
      "Split 8 R squared: 0.3057\n",
      "Split 9 R squared: -1.8488\n",
      "Split 10 R squared: 0.463\n"
     ]
    },
    {
     "data": {
      "text/plain": [
       "'Results for Store 36'"
      ]
     },
     "metadata": {},
     "output_type": "display_data"
    },
    {
     "name": "stdout",
     "output_type": "stream",
     "text": [
      "Split 1 R squared: 0.3396\n",
      "Split 2 R squared: 0.4089\n",
      "Split 3 R squared: 0.271\n",
      "Split 4 R squared: 0.0421\n",
      "Split 5 R squared: -0.1953\n",
      "Split 6 R squared: 0.1073\n",
      "Split 7 R squared: 0.0479\n",
      "Split 8 R squared: 0.3156\n",
      "Split 9 R squared: 0.218\n",
      "Split 10 R squared: 0.0243\n"
     ]
    },
    {
     "data": {
      "text/plain": [
       "'Results for Store 38'"
      ]
     },
     "metadata": {},
     "output_type": "display_data"
    },
    {
     "name": "stdout",
     "output_type": "stream",
     "text": [
      "Split 1 R squared: 0.373\n",
      "Split 2 R squared: 0.553\n",
      "Split 3 R squared: -0.1824\n",
      "Split 4 R squared: 0.3798\n",
      "Split 5 R squared: 0.4711\n",
      "Split 6 R squared: 0.3698\n",
      "Split 7 R squared: 0.5611\n",
      "Split 8 R squared: 0.6466\n",
      "Split 9 R squared: 0.5958\n",
      "Split 10 R squared: 0.1324\n"
     ]
    },
    {
     "data": {
      "text/plain": [
       "'Results for Store 23'"
      ]
     },
     "metadata": {},
     "output_type": "display_data"
    },
    {
     "name": "stdout",
     "output_type": "stream",
     "text": [
      "Split 1 R squared: 0.4449\n",
      "Split 2 R squared: -0.0183\n",
      "Split 3 R squared: 0.1805\n",
      "Split 4 R squared: 0.6407\n",
      "Split 5 R squared: -0.4084\n",
      "Split 6 R squared: 0.4957\n",
      "Split 7 R squared: 0.2134\n",
      "Split 8 R squared: 0.5778\n",
      "Split 9 R squared: 0.6237\n",
      "Split 10 R squared: 0.4871\n"
     ]
    },
    {
     "data": {
      "text/plain": [
       "'Results for Store 32'"
      ]
     },
     "metadata": {},
     "output_type": "display_data"
    },
    {
     "name": "stdout",
     "output_type": "stream",
     "text": [
      "Split 1 R squared: -0.8351\n",
      "Split 2 R squared: 0.0339\n",
      "Split 3 R squared: -0.0762\n",
      "Split 4 R squared: -0.1679\n",
      "Split 5 R squared: -0.0604\n",
      "Split 6 R squared: -0.499\n",
      "Split 7 R squared: 0.2627\n",
      "Split 8 R squared: -0.0542\n",
      "Split 9 R squared: 0.5026\n",
      "Split 10 R squared: 0.2219\n"
     ]
    }
   ],
   "source": [
    "for ID in store_IDs:\n",
    "    ModelReport(Store_ID=ID, model=GBR, graphs=False)"
   ]
  },
  {
   "cell_type": "markdown",
   "metadata": {},
   "source": [
    "Note: only run if you want to see each graph"
   ]
  },
  {
   "cell_type": "code",
   "execution_count": null,
   "metadata": {},
   "outputs": [],
   "source": [
    "for ID in store_IDs:\n",
    "    GBR.fit(individuals[ID].drop('SalesRevenue',axis=1),individuals[ID]['SalesRevenue'])\n",
    "    plt.figure(figsize=(25,5))\n",
    "    plt.title(\"Store ID {}\".format(ID))\n",
    "    plt.plot(individuals[ID].reset_index()['SalesRevenue'][:200])\n",
    "    plt.plot(GBR.predict(individuals[ID].drop('SalesRevenue',axis=1)[:200]))"
   ]
  },
  {
   "cell_type": "markdown",
   "metadata": {},
   "source": [
    "## Predictions"
   ]
  },
  {
   "cell_type": "code",
   "execution_count": 156,
   "metadata": {},
   "outputs": [
    {
     "data": {
      "text/plain": [
       "'Store 17 Predicted Sales: '"
      ]
     },
     "metadata": {},
     "output_type": "display_data"
    },
    {
     "data": {
      "text/plain": [
       "0    205.353751\n",
       "Name: SalesRevenue, dtype: float64"
      ]
     },
     "metadata": {},
     "output_type": "display_data"
    },
    {
     "data": {
      "text/plain": [
       "'Store 16 Predicted Sales: '"
      ]
     },
     "metadata": {},
     "output_type": "display_data"
    },
    {
     "data": {
      "text/plain": [
       "0    99.851237\n",
       "Name: SalesRevenue, dtype: float64"
      ]
     },
     "metadata": {},
     "output_type": "display_data"
    },
    {
     "data": {
      "text/plain": [
       "'Store 11 Predicted Sales: '"
      ]
     },
     "metadata": {},
     "output_type": "display_data"
    },
    {
     "data": {
      "text/plain": [
       "0    97.285443\n",
       "Name: SalesRevenue, dtype: float64"
      ]
     },
     "metadata": {},
     "output_type": "display_data"
    },
    {
     "data": {
      "text/plain": [
       "'Store 2 Predicted Sales: '"
      ]
     },
     "metadata": {},
     "output_type": "display_data"
    },
    {
     "data": {
      "text/plain": [
       "0    124.73138\n",
       "Name: SalesRevenue, dtype: float64"
      ]
     },
     "metadata": {},
     "output_type": "display_data"
    },
    {
     "data": {
      "text/plain": [
       "'Store 18 Predicted Sales: '"
      ]
     },
     "metadata": {},
     "output_type": "display_data"
    },
    {
     "data": {
      "text/plain": [
       "0    76.963431\n",
       "Name: SalesRevenue, dtype: float64"
      ]
     },
     "metadata": {},
     "output_type": "display_data"
    },
    {
     "data": {
      "text/plain": [
       "'Store 20 Predicted Sales: '"
      ]
     },
     "metadata": {},
     "output_type": "display_data"
    },
    {
     "data": {
      "text/plain": [
       "0    143.242398\n",
       "Name: SalesRevenue, dtype: float64"
      ]
     },
     "metadata": {},
     "output_type": "display_data"
    },
    {
     "data": {
      "text/plain": [
       "'Store 21 Predicted Sales: '"
      ]
     },
     "metadata": {},
     "output_type": "display_data"
    },
    {
     "data": {
      "text/plain": [
       "0    98.302663\n",
       "Name: SalesRevenue, dtype: float64"
      ]
     },
     "metadata": {},
     "output_type": "display_data"
    },
    {
     "data": {
      "text/plain": [
       "'Store 22 Predicted Sales: '"
      ]
     },
     "metadata": {},
     "output_type": "display_data"
    },
    {
     "data": {
      "text/plain": [
       "0    86.143063\n",
       "Name: SalesRevenue, dtype: float64"
      ]
     },
     "metadata": {},
     "output_type": "display_data"
    },
    {
     "data": {
      "text/plain": [
       "'Store 31 Predicted Sales: '"
      ]
     },
     "metadata": {},
     "output_type": "display_data"
    },
    {
     "data": {
      "text/plain": [
       "0    99.549875\n",
       "Name: SalesRevenue, dtype: float64"
      ]
     },
     "metadata": {},
     "output_type": "display_data"
    },
    {
     "data": {
      "text/plain": [
       "'Store 34 Predicted Sales: '"
      ]
     },
     "metadata": {},
     "output_type": "display_data"
    },
    {
     "data": {
      "text/plain": [
       "0    83.782983\n",
       "Name: SalesRevenue, dtype: float64"
      ]
     },
     "metadata": {},
     "output_type": "display_data"
    },
    {
     "data": {
      "text/plain": [
       "'Store 36 Predicted Sales: '"
      ]
     },
     "metadata": {},
     "output_type": "display_data"
    },
    {
     "data": {
      "text/plain": [
       "0    95.450972\n",
       "Name: SalesRevenue, dtype: float64"
      ]
     },
     "metadata": {},
     "output_type": "display_data"
    },
    {
     "data": {
      "text/plain": [
       "'Store 38 Predicted Sales: '"
      ]
     },
     "metadata": {},
     "output_type": "display_data"
    },
    {
     "data": {
      "text/plain": [
       "0    92.206628\n",
       "Name: SalesRevenue, dtype: float64"
      ]
     },
     "metadata": {},
     "output_type": "display_data"
    },
    {
     "data": {
      "text/plain": [
       "'Store 23 Predicted Sales: '"
      ]
     },
     "metadata": {},
     "output_type": "display_data"
    },
    {
     "data": {
      "text/plain": [
       "0    64.148073\n",
       "Name: SalesRevenue, dtype: float64"
      ]
     },
     "metadata": {},
     "output_type": "display_data"
    },
    {
     "data": {
      "text/plain": [
       "'Store 32 Predicted Sales: '"
      ]
     },
     "metadata": {},
     "output_type": "display_data"
    },
    {
     "data": {
      "text/plain": [
       "0    60.032252\n",
       "Name: SalesRevenue, dtype: float64"
      ]
     },
     "metadata": {},
     "output_type": "display_data"
    }
   ],
   "source": [
    "for ID in store_IDs:\n",
    "    GBR = ensemble.GradientBoostingRegressor()\n",
    "    GBR.fit(X = individuals[ID].drop('SalesRevenue',axis=1),\n",
    "            y = individuals[ID]['SalesRevenue'])\n",
    "    prediction = GBR.predict(test_set[ID].drop('SalesRevenue',axis=1))[-1:]\n",
    "#     display(prediction)\n",
    "    test_set[ID]['SalesRevenue']=prediction\n",
    "    display(\"Store {} Predicted Sales: \".format(ID))\n",
    "    display(pd.DataFrame(min_max_scaler.inverse_transform(test_set[ID]),\n",
    "                         columns=test_set[ID].columns)['SalesRevenue'])"
   ]
  },
  {
   "cell_type": "markdown",
   "metadata": {},
   "source": [
    "# Top Features"
   ]
  },
  {
   "cell_type": "markdown",
   "metadata": {},
   "source": [
    "### Correlations"
   ]
  },
  {
   "cell_type": "code",
   "execution_count": 173,
   "metadata": {
    "scrolled": true
   },
   "outputs": [
    {
     "data": {
      "text/plain": [
       "<matplotlib.axes._subplots.AxesSubplot at 0x131a67e80>"
      ]
     },
     "execution_count": 173,
     "metadata": {},
     "output_type": "execute_result"
    },
    {
     "data": {
      "image/png": "[encoded data removed]",
      "text/plain": [
       "<matplotlib.figure.Figure at 0x14b7b1c18>"
      ]
     },
     "metadata": {},
     "output_type": "display_data"
    }
   ],
   "source": [
    "f, ax = plt.subplots(dpi=100)\n",
    "plt.rc('font',size = 12)\n",
    "corr = np_scaled.corr()\n",
    "sns.heatmap(corr, mask=np.zeros_like(corr, dtype=np.bool), cmap=sns.diverging_palette(220, 10, as_cmap=True),\n",
    "            square=True, ax=ax)"
   ]
  },
  {
   "cell_type": "code",
   "execution_count": 174,
   "metadata": {},
   "outputs": [
    {
     "data": {
      "text/plain": [
       "Store__17        0.202817\n",
       "Store RM 21      0.208009\n",
       "Store RM 2       0.229813\n",
       "AvgHourlyTemp    0.229903\n",
       "Store RM 18      0.230360\n",
       "Store RM 20      0.234312\n",
       "Store RM 11      0.239688\n",
       "Rolling_mean     0.246261\n",
       "Store RM 17      0.251653\n",
       "Lunch            0.442687\n",
       "SalesRevenue     1.000000\n",
       "Name: SalesRevenue, dtype: float64"
      ]
     },
     "metadata": {},
     "output_type": "display_data"
    },
    {
     "data": {
      "text/plain": [
       "Breakfast             -0.235527\n",
       "Dinner                -0.197260\n",
       "clear-night           -0.195934\n",
       "Store__16             -0.152389\n",
       "Late Night            -0.134431\n",
       "Store__11             -0.129006\n",
       "Qtr__4                -0.112826\n",
       "Store__22             -0.082117\n",
       "Hour                  -0.077105\n",
       "partly-cloudy-night   -0.070913\n",
       "Name: SalesRevenue, dtype: float64"
      ]
     },
     "metadata": {},
     "output_type": "display_data"
    }
   ],
   "source": [
    "display((corr['SalesRevenue'].sort_values()).tail(11))\n",
    "display((corr['SalesRevenue'].sort_values()).head(10))\n"
   ]
  },
  {
   "cell_type": "code",
   "execution_count": 175,
   "metadata": {
    "scrolled": true
   },
   "outputs": [
    {
     "name": "stdout",
     "output_type": "stream",
     "text": [
      "('AvgHourlyTemp', 0.22920505624373885)\n",
      "('Hour', 0.20899078534731066)\n",
      "('Timestamp', 0.12785057090943336)\n",
      "('Lunch', 0.06377332185165295)\n",
      "('Store RM 32', 0.055147275456872674)\n",
      "('clear-night', 0.031702971138924965)\n",
      "('Rolling_mean', 0.02182869399073455)\n",
      "('Store RM 2', 0.02169950281036391)\n",
      "('Store RM 21', 0.019376995559223731)\n",
      "('Afternoon', 0.019359601230171122)\n",
      "('Store RM 31', 0.018927687352376064)\n",
      "('Store RM 18', 0.018414064203992272)\n",
      "('Store RM 34', 0.018206927332359523)\n",
      "('partly-cloudy-night', 0.016223932147115917)\n",
      "('Day__6', 0.015382611298451808)\n",
      "('Late Night', 0.013879914170529023)\n",
      "('Store RM 17', 0.013440430114425101)\n",
      "('Fiscal_dayofWk', 0.011833292703545268)\n",
      "('Store RM 20', 0.011157528970770532)\n",
      "('Store RM 16', 0.0093249902346955946)\n",
      "('Store RM 36', 0.0078845350303615187)\n",
      "('Store RM 22', 0.0075500672082057492)\n",
      "('partly-cloudy-day', 0.0071918430050450068)\n",
      "('Store RM 11', 0.0067205927519701)\n",
      "('Breakfast', 0.0061992370938331312)\n",
      "('rain', 0.0055635441785086273)\n",
      "('Fiscal_Qtr', 0.0032563368070630018)\n",
      "('Store RM 38', 0.0026490537156539725)\n",
      "('clear-day', 0.002345807455889921)\n",
      "('Store RM 23', 0.0022397085014168065)\n",
      "('Day__3', 0.0010779242840683711)\n",
      "('Day__4', 0.0010701643492750873)\n",
      "('Qtr__2', 0.00035828277451259953)\n",
      "('Day__2', 0.00016674977750817966)\n",
      "('Day__1', 0.0)\n",
      "('Day__5', 0.0)\n",
      "('Day__7', 0.0)\n",
      "('Qtr__1', 0.0)\n",
      "('Qtr__3', 0.0)\n",
      "('Qtr__4', 0.0)\n",
      "('Store__2', 0.0)\n",
      "('Store__11', 0.0)\n",
      "('Store__16', 0.0)\n",
      "('Store__17', 0.0)\n",
      "('Store__18', 0.0)\n",
      "('Store__20', 0.0)\n",
      "('Store__21', 0.0)\n",
      "('Store__22', 0.0)\n",
      "('Store__23', 0.0)\n",
      "('Store__31', 0.0)\n",
      "('Store__32', 0.0)\n",
      "('Store__34', 0.0)\n",
      "('Store__36', 0.0)\n",
      "('Store__38', 0.0)\n",
      "('Dinner', 0.0)\n",
      "('cloudy', 0.0)\n",
      "('fog', 0.0)\n",
      "('snow', 0.0)\n",
      "('wind', 0.0)\n"
     ]
    }
   ],
   "source": [
    "gbr_feats = TreeFeatureEvaluation(model=GBR)"
   ]
  },
  {
   "cell_type": "code",
   "execution_count": 176,
   "metadata": {},
   "outputs": [
    {
     "data": {
      "image/png": "[encoded data removed]",
      "text/plain": [
       "<matplotlib.figure.Figure at 0x1519f4160>"
      ]
     },
     "metadata": {},
     "output_type": "display_data"
    }
   ],
   "source": [
    "TreeFeatureChart(gbr_feats)"
   ]
  },
  {
   "cell_type": "code",
   "execution_count": 177,
   "metadata": {},
   "outputs": [
    {
     "data": {
      "text/html": [
       "<div>\n",
       "<style>\n",
       "    .dataframe thead tr:only-child th {\n",
       "        text-align: right;\n",
       "    }\n",
       "\n",
       "    .dataframe thead th {\n",
       "        text-align: left;\n",
       "    }\n",
       "\n",
       "    .dataframe tbody tr th {\n",
       "        vertical-align: top;\n",
       "    }\n",
       "</style>\n",
       "<table border=\"1\" class=\"dataframe\">\n",
       "  <thead>\n",
       "    <tr style=\"text-align: right;\">\n",
       "      <th></th>\n",
       "      <th>count</th>\n",
       "      <th>mean</th>\n",
       "      <th>std</th>\n",
       "      <th>min</th>\n",
       "      <th>25%</th>\n",
       "      <th>50%</th>\n",
       "      <th>75%</th>\n",
       "      <th>max</th>\n",
       "    </tr>\n",
       "    <tr>\n",
       "      <th>Daypart</th>\n",
       "      <th></th>\n",
       "      <th></th>\n",
       "      <th></th>\n",
       "      <th></th>\n",
       "      <th></th>\n",
       "      <th></th>\n",
       "      <th></th>\n",
       "      <th></th>\n",
       "    </tr>\n",
       "  </thead>\n",
       "  <tbody>\n",
       "    <tr>\n",
       "      <th>Afternoon</th>\n",
       "      <td>28057.0</td>\n",
       "      <td>128.554550</td>\n",
       "      <td>70.518656</td>\n",
       "      <td>0.0</td>\n",
       "      <td>79.72</td>\n",
       "      <td>117.050</td>\n",
       "      <td>164.2100</td>\n",
       "      <td>998.97</td>\n",
       "    </tr>\n",
       "    <tr>\n",
       "      <th>Breakfast</th>\n",
       "      <td>32482.0</td>\n",
       "      <td>80.933205</td>\n",
       "      <td>71.400701</td>\n",
       "      <td>0.0</td>\n",
       "      <td>34.24</td>\n",
       "      <td>64.995</td>\n",
       "      <td>107.9275</td>\n",
       "      <td>1097.50</td>\n",
       "    </tr>\n",
       "    <tr>\n",
       "      <th>Dinner</th>\n",
       "      <td>34474.0</td>\n",
       "      <td>88.265783</td>\n",
       "      <td>51.831521</td>\n",
       "      <td>0.0</td>\n",
       "      <td>50.78</td>\n",
       "      <td>81.100</td>\n",
       "      <td>118.2000</td>\n",
       "      <td>887.38</td>\n",
       "    </tr>\n",
       "    <tr>\n",
       "      <th>Late Night</th>\n",
       "      <td>2178.0</td>\n",
       "      <td>23.311272</td>\n",
       "      <td>40.029577</td>\n",
       "      <td>0.0</td>\n",
       "      <td>4.49</td>\n",
       "      <td>11.210</td>\n",
       "      <td>32.1275</td>\n",
       "      <td>1023.24</td>\n",
       "    </tr>\n",
       "    <tr>\n",
       "      <th>Lunch</th>\n",
       "      <td>28106.0</td>\n",
       "      <td>195.815000</td>\n",
       "      <td>125.043355</td>\n",
       "      <td>0.0</td>\n",
       "      <td>110.51</td>\n",
       "      <td>168.960</td>\n",
       "      <td>247.2675</td>\n",
       "      <td>1101.78</td>\n",
       "    </tr>\n",
       "  </tbody>\n",
       "</table>\n",
       "</div>"
      ],
      "text/plain": [
       "              count        mean         std  min     25%      50%       75%  \\\n",
       "Daypart                                                                       \n",
       "Afternoon   28057.0  128.554550   70.518656  0.0   79.72  117.050  164.2100   \n",
       "Breakfast   32482.0   80.933205   71.400701  0.0   34.24   64.995  107.9275   \n",
       "Dinner      34474.0   88.265783   51.831521  0.0   50.78   81.100  118.2000   \n",
       "Late Night   2178.0   23.311272   40.029577  0.0    4.49   11.210   32.1275   \n",
       "Lunch       28106.0  195.815000  125.043355  0.0  110.51  168.960  247.2675   \n",
       "\n",
       "                max  \n",
       "Daypart              \n",
       "Afternoon    998.97  \n",
       "Breakfast   1097.50  \n",
       "Dinner       887.38  \n",
       "Late Night  1023.24  \n",
       "Lunch       1101.78  "
      ]
     },
     "execution_count": 177,
     "metadata": {},
     "output_type": "execute_result"
    }
   ],
   "source": [
    "lagged_df.groupby('Daypart')['SalesRevenue'].describe()"
   ]
  },
  {
   "cell_type": "code",
   "execution_count": 178,
   "metadata": {},
   "outputs": [
    {
     "data": {
      "text/html": [
       "<div>\n",
       "<style>\n",
       "    .dataframe thead tr:only-child th {\n",
       "        text-align: right;\n",
       "    }\n",
       "\n",
       "    .dataframe thead th {\n",
       "        text-align: left;\n",
       "    }\n",
       "\n",
       "    .dataframe tbody tr th {\n",
       "        vertical-align: top;\n",
       "    }\n",
       "</style>\n",
       "<table border=\"1\" class=\"dataframe\">\n",
       "  <thead>\n",
       "    <tr style=\"text-align: right;\">\n",
       "      <th></th>\n",
       "      <th>count</th>\n",
       "      <th>mean</th>\n",
       "      <th>std</th>\n",
       "      <th>min</th>\n",
       "      <th>25%</th>\n",
       "      <th>50%</th>\n",
       "      <th>75%</th>\n",
       "      <th>max</th>\n",
       "    </tr>\n",
       "    <tr>\n",
       "      <th>Fiscal_Qtr</th>\n",
       "      <th></th>\n",
       "      <th></th>\n",
       "      <th></th>\n",
       "      <th></th>\n",
       "      <th></th>\n",
       "      <th></th>\n",
       "      <th></th>\n",
       "      <th></th>\n",
       "    </tr>\n",
       "  </thead>\n",
       "  <tbody>\n",
       "    <tr>\n",
       "      <th>1</th>\n",
       "      <td>33260.0</td>\n",
       "      <td>111.916096</td>\n",
       "      <td>89.429688</td>\n",
       "      <td>0.0</td>\n",
       "      <td>51.7475</td>\n",
       "      <td>92.150</td>\n",
       "      <td>147.5525</td>\n",
       "      <td>1068.33</td>\n",
       "    </tr>\n",
       "    <tr>\n",
       "      <th>2</th>\n",
       "      <td>38027.0</td>\n",
       "      <td>132.619338</td>\n",
       "      <td>100.696226</td>\n",
       "      <td>0.0</td>\n",
       "      <td>67.0200</td>\n",
       "      <td>111.930</td>\n",
       "      <td>171.4200</td>\n",
       "      <td>1101.78</td>\n",
       "    </tr>\n",
       "    <tr>\n",
       "      <th>3</th>\n",
       "      <td>28604.0</td>\n",
       "      <td>125.664809</td>\n",
       "      <td>97.309378</td>\n",
       "      <td>0.0</td>\n",
       "      <td>63.7575</td>\n",
       "      <td>105.185</td>\n",
       "      <td>160.0500</td>\n",
       "      <td>1067.18</td>\n",
       "    </tr>\n",
       "    <tr>\n",
       "      <th>4</th>\n",
       "      <td>25406.0</td>\n",
       "      <td>97.338785</td>\n",
       "      <td>80.420436</td>\n",
       "      <td>0.0</td>\n",
       "      <td>45.6500</td>\n",
       "      <td>79.375</td>\n",
       "      <td>125.6200</td>\n",
       "      <td>1023.24</td>\n",
       "    </tr>\n",
       "  </tbody>\n",
       "</table>\n",
       "</div>"
      ],
      "text/plain": [
       "              count        mean         std  min      25%      50%       75%  \\\n",
       "Fiscal_Qtr                                                                     \n",
       "1           33260.0  111.916096   89.429688  0.0  51.7475   92.150  147.5525   \n",
       "2           38027.0  132.619338  100.696226  0.0  67.0200  111.930  171.4200   \n",
       "3           28604.0  125.664809   97.309378  0.0  63.7575  105.185  160.0500   \n",
       "4           25406.0   97.338785   80.420436  0.0  45.6500   79.375  125.6200   \n",
       "\n",
       "                max  \n",
       "Fiscal_Qtr           \n",
       "1           1068.33  \n",
       "2           1101.78  \n",
       "3           1067.18  \n",
       "4           1023.24  "
      ]
     },
     "execution_count": 178,
     "metadata": {},
     "output_type": "execute_result"
    }
   ],
   "source": [
    "lagged_df.groupby('Fiscal_Qtr')['SalesRevenue'].describe()"
   ]
  },
  {
   "cell_type": "code",
   "execution_count": 179,
   "metadata": {},
   "outputs": [
    {
     "data": {
      "text/html": [
       "<div>\n",
       "<style>\n",
       "    .dataframe thead tr:only-child th {\n",
       "        text-align: right;\n",
       "    }\n",
       "\n",
       "    .dataframe thead th {\n",
       "        text-align: left;\n",
       "    }\n",
       "\n",
       "    .dataframe tbody tr th {\n",
       "        vertical-align: top;\n",
       "    }\n",
       "</style>\n",
       "<table border=\"1\" class=\"dataframe\">\n",
       "  <thead>\n",
       "    <tr style=\"text-align: right;\">\n",
       "      <th></th>\n",
       "      <th>count</th>\n",
       "      <th>mean</th>\n",
       "      <th>std</th>\n",
       "      <th>min</th>\n",
       "      <th>25%</th>\n",
       "      <th>50%</th>\n",
       "      <th>75%</th>\n",
       "      <th>max</th>\n",
       "    </tr>\n",
       "    <tr>\n",
       "      <th>HourlyWeather</th>\n",
       "      <th></th>\n",
       "      <th></th>\n",
       "      <th></th>\n",
       "      <th></th>\n",
       "      <th></th>\n",
       "      <th></th>\n",
       "      <th></th>\n",
       "      <th></th>\n",
       "    </tr>\n",
       "  </thead>\n",
       "  <tbody>\n",
       "    <tr>\n",
       "      <th>clear-day</th>\n",
       "      <td>70494.0</td>\n",
       "      <td>124.698882</td>\n",
       "      <td>95.696426</td>\n",
       "      <td>0.00</td>\n",
       "      <td>62.600</td>\n",
       "      <td>102.985</td>\n",
       "      <td>159.320</td>\n",
       "      <td>1101.78</td>\n",
       "    </tr>\n",
       "    <tr>\n",
       "      <th>clear-night</th>\n",
       "      <td>12831.0</td>\n",
       "      <td>63.818536</td>\n",
       "      <td>56.409489</td>\n",
       "      <td>0.00</td>\n",
       "      <td>22.025</td>\n",
       "      <td>50.990</td>\n",
       "      <td>91.335</td>\n",
       "      <td>1023.24</td>\n",
       "    </tr>\n",
       "    <tr>\n",
       "      <th>cloudy</th>\n",
       "      <td>1571.0</td>\n",
       "      <td>96.854239</td>\n",
       "      <td>71.033064</td>\n",
       "      <td>0.00</td>\n",
       "      <td>44.265</td>\n",
       "      <td>84.020</td>\n",
       "      <td>133.200</td>\n",
       "      <td>645.16</td>\n",
       "    </tr>\n",
       "    <tr>\n",
       "      <th>fog</th>\n",
       "      <td>715.0</td>\n",
       "      <td>84.496350</td>\n",
       "      <td>65.234246</td>\n",
       "      <td>0.00</td>\n",
       "      <td>37.790</td>\n",
       "      <td>70.370</td>\n",
       "      <td>113.470</td>\n",
       "      <td>494.61</td>\n",
       "    </tr>\n",
       "    <tr>\n",
       "      <th>partly-cloudy-day</th>\n",
       "      <td>22403.0</td>\n",
       "      <td>144.222460</td>\n",
       "      <td>100.452489</td>\n",
       "      <td>0.00</td>\n",
       "      <td>78.530</td>\n",
       "      <td>123.390</td>\n",
       "      <td>183.725</td>\n",
       "      <td>1051.90</td>\n",
       "    </tr>\n",
       "    <tr>\n",
       "      <th>partly-cloudy-night</th>\n",
       "      <td>2225.0</td>\n",
       "      <td>68.773667</td>\n",
       "      <td>56.920499</td>\n",
       "      <td>0.00</td>\n",
       "      <td>26.380</td>\n",
       "      <td>55.950</td>\n",
       "      <td>97.620</td>\n",
       "      <td>516.05</td>\n",
       "    </tr>\n",
       "    <tr>\n",
       "      <th>rain</th>\n",
       "      <td>14563.0</td>\n",
       "      <td>107.715813</td>\n",
       "      <td>86.591211</td>\n",
       "      <td>0.00</td>\n",
       "      <td>53.870</td>\n",
       "      <td>89.400</td>\n",
       "      <td>137.370</td>\n",
       "      <td>1097.50</td>\n",
       "    </tr>\n",
       "    <tr>\n",
       "      <th>snow</th>\n",
       "      <td>55.0</td>\n",
       "      <td>54.893818</td>\n",
       "      <td>47.641024</td>\n",
       "      <td>4.04</td>\n",
       "      <td>21.700</td>\n",
       "      <td>44.030</td>\n",
       "      <td>72.440</td>\n",
       "      <td>262.89</td>\n",
       "    </tr>\n",
       "    <tr>\n",
       "      <th>wind</th>\n",
       "      <td>440.0</td>\n",
       "      <td>125.629659</td>\n",
       "      <td>92.701185</td>\n",
       "      <td>0.00</td>\n",
       "      <td>59.725</td>\n",
       "      <td>101.475</td>\n",
       "      <td>164.015</td>\n",
       "      <td>733.82</td>\n",
       "    </tr>\n",
       "  </tbody>\n",
       "</table>\n",
       "</div>"
      ],
      "text/plain": [
       "                       count        mean         std   min     25%      50%  \\\n",
       "HourlyWeather                                                                 \n",
       "clear-day            70494.0  124.698882   95.696426  0.00  62.600  102.985   \n",
       "clear-night          12831.0   63.818536   56.409489  0.00  22.025   50.990   \n",
       "cloudy                1571.0   96.854239   71.033064  0.00  44.265   84.020   \n",
       "fog                    715.0   84.496350   65.234246  0.00  37.790   70.370   \n",
       "partly-cloudy-day    22403.0  144.222460  100.452489  0.00  78.530  123.390   \n",
       "partly-cloudy-night   2225.0   68.773667   56.920499  0.00  26.380   55.950   \n",
       "rain                 14563.0  107.715813   86.591211  0.00  53.870   89.400   \n",
       "snow                    55.0   54.893818   47.641024  4.04  21.700   44.030   \n",
       "wind                   440.0  125.629659   92.701185  0.00  59.725  101.475   \n",
       "\n",
       "                         75%      max  \n",
       "HourlyWeather                          \n",
       "clear-day            159.320  1101.78  \n",
       "clear-night           91.335  1023.24  \n",
       "cloudy               133.200   645.16  \n",
       "fog                  113.470   494.61  \n",
       "partly-cloudy-day    183.725  1051.90  \n",
       "partly-cloudy-night   97.620   516.05  \n",
       "rain                 137.370  1097.50  \n",
       "snow                  72.440   262.89  \n",
       "wind                 164.015   733.82  "
      ]
     },
     "execution_count": 179,
     "metadata": {},
     "output_type": "execute_result"
    }
   ],
   "source": [
    "lagged_df.groupby('HourlyWeather')['SalesRevenue'].describe()"
   ]
  },
  {
   "cell_type": "code",
   "execution_count": null,
   "metadata": {
    "collapsed": true
   },
   "outputs": [],
   "source": []
  },
  {
   "cell_type": "code",
   "execution_count": null,
   "metadata": {
    "collapsed": true
   },
   "outputs": [],
   "source": []
  }
 ],
 "metadata": {
  "kernelspec": {
   "display_name": "Python 3",
   "language": "python",
   "name": "python3"
  },
  "language_info": {
   "codemirror_mode": {
    "name": "ipython",
    "version": 3
   },
   "file_extension": ".py",
   "mimetype": "text/x-python",
   "name": "python",
   "nbconvert_exporter": "python",
   "pygments_lexer": "ipython3",
   "version": "3.6.3"
  }
 },
 "nbformat": 4,
 "nbformat_minor": 2
}
